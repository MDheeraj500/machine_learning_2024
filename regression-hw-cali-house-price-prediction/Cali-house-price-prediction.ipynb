{
 "cells": [
  {
   "cell_type": "code",
   "execution_count": 7,
   "id": "4496ac74-bf58-4b69-9029-c5d3479750fe",
   "metadata": {},
   "outputs": [],
   "source": [
    "import numpy as np\n",
    "import pandas as pd\n",
    "import seaborn as sns"
   ]
  },
  {
   "cell_type": "code",
   "execution_count": 3,
   "id": "6a1964c5-5b15-4dad-bb86-6409e117b837",
   "metadata": {},
   "outputs": [],
   "source": [
    "data = pd.read_csv('housing.csv')"
   ]
  },
  {
   "cell_type": "code",
   "execution_count": 4,
   "id": "5216f19d-4e86-4ca9-a26d-b10076d81c8a",
   "metadata": {},
   "outputs": [
    {
     "data": {
      "text/html": [
       "<div>\n",
       "<style scoped>\n",
       "    .dataframe tbody tr th:only-of-type {\n",
       "        vertical-align: middle;\n",
       "    }\n",
       "\n",
       "    .dataframe tbody tr th {\n",
       "        vertical-align: top;\n",
       "    }\n",
       "\n",
       "    .dataframe thead th {\n",
       "        text-align: right;\n",
       "    }\n",
       "</style>\n",
       "<table border=\"1\" class=\"dataframe\">\n",
       "  <thead>\n",
       "    <tr style=\"text-align: right;\">\n",
       "      <th></th>\n",
       "      <th>longitude</th>\n",
       "      <th>latitude</th>\n",
       "      <th>housing_median_age</th>\n",
       "      <th>total_rooms</th>\n",
       "      <th>total_bedrooms</th>\n",
       "      <th>population</th>\n",
       "      <th>households</th>\n",
       "      <th>median_income</th>\n",
       "      <th>median_house_value</th>\n",
       "      <th>ocean_proximity</th>\n",
       "    </tr>\n",
       "  </thead>\n",
       "  <tbody>\n",
       "    <tr>\n",
       "      <th>0</th>\n",
       "      <td>-122.23</td>\n",
       "      <td>37.88</td>\n",
       "      <td>41.0</td>\n",
       "      <td>880.0</td>\n",
       "      <td>129.0</td>\n",
       "      <td>322.0</td>\n",
       "      <td>126.0</td>\n",
       "      <td>8.3252</td>\n",
       "      <td>452600.0</td>\n",
       "      <td>NEAR BAY</td>\n",
       "    </tr>\n",
       "    <tr>\n",
       "      <th>1</th>\n",
       "      <td>-122.22</td>\n",
       "      <td>37.86</td>\n",
       "      <td>21.0</td>\n",
       "      <td>7099.0</td>\n",
       "      <td>1106.0</td>\n",
       "      <td>2401.0</td>\n",
       "      <td>1138.0</td>\n",
       "      <td>8.3014</td>\n",
       "      <td>358500.0</td>\n",
       "      <td>NEAR BAY</td>\n",
       "    </tr>\n",
       "    <tr>\n",
       "      <th>2</th>\n",
       "      <td>-122.24</td>\n",
       "      <td>37.85</td>\n",
       "      <td>52.0</td>\n",
       "      <td>1467.0</td>\n",
       "      <td>190.0</td>\n",
       "      <td>496.0</td>\n",
       "      <td>177.0</td>\n",
       "      <td>7.2574</td>\n",
       "      <td>352100.0</td>\n",
       "      <td>NEAR BAY</td>\n",
       "    </tr>\n",
       "    <tr>\n",
       "      <th>3</th>\n",
       "      <td>-122.25</td>\n",
       "      <td>37.85</td>\n",
       "      <td>52.0</td>\n",
       "      <td>1274.0</td>\n",
       "      <td>235.0</td>\n",
       "      <td>558.0</td>\n",
       "      <td>219.0</td>\n",
       "      <td>5.6431</td>\n",
       "      <td>341300.0</td>\n",
       "      <td>NEAR BAY</td>\n",
       "    </tr>\n",
       "    <tr>\n",
       "      <th>4</th>\n",
       "      <td>-122.25</td>\n",
       "      <td>37.85</td>\n",
       "      <td>52.0</td>\n",
       "      <td>1627.0</td>\n",
       "      <td>280.0</td>\n",
       "      <td>565.0</td>\n",
       "      <td>259.0</td>\n",
       "      <td>3.8462</td>\n",
       "      <td>342200.0</td>\n",
       "      <td>NEAR BAY</td>\n",
       "    </tr>\n",
       "  </tbody>\n",
       "</table>\n",
       "</div>"
      ],
      "text/plain": [
       "   longitude  latitude  housing_median_age  total_rooms  total_bedrooms  \\\n",
       "0    -122.23     37.88                41.0        880.0           129.0   \n",
       "1    -122.22     37.86                21.0       7099.0          1106.0   \n",
       "2    -122.24     37.85                52.0       1467.0           190.0   \n",
       "3    -122.25     37.85                52.0       1274.0           235.0   \n",
       "4    -122.25     37.85                52.0       1627.0           280.0   \n",
       "\n",
       "   population  households  median_income  median_house_value ocean_proximity  \n",
       "0       322.0       126.0         8.3252            452600.0        NEAR BAY  \n",
       "1      2401.0      1138.0         8.3014            358500.0        NEAR BAY  \n",
       "2       496.0       177.0         7.2574            352100.0        NEAR BAY  \n",
       "3       558.0       219.0         5.6431            341300.0        NEAR BAY  \n",
       "4       565.0       259.0         3.8462            342200.0        NEAR BAY  "
      ]
     },
     "execution_count": 4,
     "metadata": {},
     "output_type": "execute_result"
    }
   ],
   "source": [
    "data.head()"
   ]
  },
  {
   "cell_type": "code",
   "execution_count": 5,
   "id": "9383d0c7-0eb0-433f-ac24-ec05869d4483",
   "metadata": {},
   "outputs": [
    {
     "data": {
      "text/plain": [
       "Index(['longitude', 'latitude', 'housing_median_age', 'total_rooms',\n",
       "       'total_bedrooms', 'population', 'households', 'median_income',\n",
       "       'median_house_value', 'ocean_proximity'],\n",
       "      dtype='object')"
      ]
     },
     "execution_count": 5,
     "metadata": {},
     "output_type": "execute_result"
    }
   ],
   "source": [
    "data.columns"
   ]
  },
  {
   "cell_type": "code",
   "execution_count": 15,
   "id": "1c35b97d-1988-4555-8e27-dc089b48e599",
   "metadata": {},
   "outputs": [
    {
     "data": {
      "text/plain": [
       "longitude             float64\n",
       "latitude              float64\n",
       "housing_median_age    float64\n",
       "total_rooms           float64\n",
       "total_bedrooms        float64\n",
       "population            float64\n",
       "households            float64\n",
       "median_income         float64\n",
       "median_house_value    float64\n",
       "ocean_proximity        object\n",
       "dtype: object"
      ]
     },
     "execution_count": 15,
     "metadata": {},
     "output_type": "execute_result"
    }
   ],
   "source": [
    "data.dtypes"
   ]
  },
  {
   "cell_type": "code",
   "execution_count": 12,
   "id": "956b47d9-2308-4939-98aa-4b5564bbfe83",
   "metadata": {},
   "outputs": [
    {
     "data": {
      "text/plain": [
       "<bound method IndexOpsMixin.value_counts of 0        452600.0\n",
       "1        358500.0\n",
       "2        352100.0\n",
       "3        341300.0\n",
       "4        342200.0\n",
       "           ...   \n",
       "20635     78100.0\n",
       "20636     77100.0\n",
       "20637     92300.0\n",
       "20638     84700.0\n",
       "20639     89400.0\n",
       "Name: median_house_value, Length: 20640, dtype: float64>"
      ]
     },
     "execution_count": 12,
     "metadata": {},
     "output_type": "execute_result"
    }
   ],
   "source": [
    "data.median_house_value.value_counts"
   ]
  },
  {
   "cell_type": "code",
   "execution_count": 10,
   "id": "0f76c0eb-fe52-452b-bb6a-6424955b11b9",
   "metadata": {},
   "outputs": [
    {
     "name": "stderr",
     "output_type": "stream",
     "text": [
      "/home/dheerajmachiraju/anaconda3/envs/ml-zoomcamp/lib/python3.10/site-packages/seaborn/_oldcore.py:1119: FutureWarning: use_inf_as_na option is deprecated and will be removed in a future version. Convert inf values to NaN before operating instead.\n",
      "  with pd.option_context('mode.use_inf_as_na', True):\n"
     ]
    },
    {
     "data": {
      "text/plain": [
       "<Axes: xlabel='median_house_value', ylabel='Count'>"
      ]
     },
     "execution_count": 10,
     "metadata": {},
     "output_type": "execute_result"
    },
    {
     "data": {
      "image/png": "[encoded data removed]",
      "text/plain": [
       "<Figure size 640x480 with 1 Axes>"
      ]
     },
     "metadata": {},
     "output_type": "display_data"
    }
   ],
   "source": [
    "sns.histplot(data.median_house_value)"
   ]
  },
  {
   "cell_type": "code",
   "execution_count": 26,
   "id": "e2b2d5cd-3ca9-4494-8143-c6afb164c0e1",
   "metadata": {},
   "outputs": [
    {
     "data": {
      "text/plain": [
       "5"
      ]
     },
     "execution_count": 26,
     "metadata": {},
     "output_type": "execute_result"
    }
   ],
   "source": [
    "data.ocean_proximity.nunique()"
   ]
  },
  {
   "cell_type": "code",
   "execution_count": 31,
   "id": "b9907193-cd3c-491c-bfa0-571bc8b36b93",
   "metadata": {},
   "outputs": [],
   "source": [
    "df = data[data['ocean_proximity'].isin(['INLAND','<1H OCEAN'])]"
   ]
  },
  {
   "cell_type": "code",
   "execution_count": 32,
   "id": "4e38aeee-4bc5-4ad4-9ed4-7c9ac11f84c7",
   "metadata": {},
   "outputs": [
    {
     "data": {
      "text/html": [
       "<div>\n",
       "<style scoped>\n",
       "    .dataframe tbody tr th:only-of-type {\n",
       "        vertical-align: middle;\n",
       "    }\n",
       "\n",
       "    .dataframe tbody tr th {\n",
       "        vertical-align: top;\n",
       "    }\n",
       "\n",
       "    .dataframe thead th {\n",
       "        text-align: right;\n",
       "    }\n",
       "</style>\n",
       "<table border=\"1\" class=\"dataframe\">\n",
       "  <thead>\n",
       "    <tr style=\"text-align: right;\">\n",
       "      <th></th>\n",
       "      <th>longitude</th>\n",
       "      <th>latitude</th>\n",
       "      <th>housing_median_age</th>\n",
       "      <th>total_rooms</th>\n",
       "      <th>total_bedrooms</th>\n",
       "      <th>population</th>\n",
       "      <th>households</th>\n",
       "      <th>median_income</th>\n",
       "      <th>median_house_value</th>\n",
       "      <th>ocean_proximity</th>\n",
       "    </tr>\n",
       "  </thead>\n",
       "  <tbody>\n",
       "    <tr>\n",
       "      <th>701</th>\n",
       "      <td>-121.97</td>\n",
       "      <td>37.64</td>\n",
       "      <td>32.0</td>\n",
       "      <td>1283.0</td>\n",
       "      <td>194.0</td>\n",
       "      <td>485.0</td>\n",
       "      <td>171.0</td>\n",
       "      <td>6.0574</td>\n",
       "      <td>431000.0</td>\n",
       "      <td>&lt;1H OCEAN</td>\n",
       "    </tr>\n",
       "    <tr>\n",
       "      <th>830</th>\n",
       "      <td>-121.99</td>\n",
       "      <td>37.61</td>\n",
       "      <td>9.0</td>\n",
       "      <td>3666.0</td>\n",
       "      <td>711.0</td>\n",
       "      <td>2341.0</td>\n",
       "      <td>703.0</td>\n",
       "      <td>4.6458</td>\n",
       "      <td>217000.0</td>\n",
       "      <td>&lt;1H OCEAN</td>\n",
       "    </tr>\n",
       "    <tr>\n",
       "      <th>859</th>\n",
       "      <td>-121.97</td>\n",
       "      <td>37.57</td>\n",
       "      <td>21.0</td>\n",
       "      <td>4342.0</td>\n",
       "      <td>783.0</td>\n",
       "      <td>2172.0</td>\n",
       "      <td>789.0</td>\n",
       "      <td>4.6146</td>\n",
       "      <td>247600.0</td>\n",
       "      <td>&lt;1H OCEAN</td>\n",
       "    </tr>\n",
       "    <tr>\n",
       "      <th>860</th>\n",
       "      <td>-121.96</td>\n",
       "      <td>37.58</td>\n",
       "      <td>15.0</td>\n",
       "      <td>3575.0</td>\n",
       "      <td>597.0</td>\n",
       "      <td>1777.0</td>\n",
       "      <td>559.0</td>\n",
       "      <td>5.7192</td>\n",
       "      <td>283500.0</td>\n",
       "      <td>&lt;1H OCEAN</td>\n",
       "    </tr>\n",
       "    <tr>\n",
       "      <th>861</th>\n",
       "      <td>-121.98</td>\n",
       "      <td>37.58</td>\n",
       "      <td>20.0</td>\n",
       "      <td>4126.0</td>\n",
       "      <td>1031.0</td>\n",
       "      <td>2079.0</td>\n",
       "      <td>975.0</td>\n",
       "      <td>3.6832</td>\n",
       "      <td>216900.0</td>\n",
       "      <td>&lt;1H OCEAN</td>\n",
       "    </tr>\n",
       "  </tbody>\n",
       "</table>\n",
       "</div>"
      ],
      "text/plain": [
       "     longitude  latitude  housing_median_age  total_rooms  total_bedrooms  \\\n",
       "701    -121.97     37.64                32.0       1283.0           194.0   \n",
       "830    -121.99     37.61                 9.0       3666.0           711.0   \n",
       "859    -121.97     37.57                21.0       4342.0           783.0   \n",
       "860    -121.96     37.58                15.0       3575.0           597.0   \n",
       "861    -121.98     37.58                20.0       4126.0          1031.0   \n",
       "\n",
       "     population  households  median_income  median_house_value ocean_proximity  \n",
       "701       485.0       171.0         6.0574            431000.0       <1H OCEAN  \n",
       "830      2341.0       703.0         4.6458            217000.0       <1H OCEAN  \n",
       "859      2172.0       789.0         4.6146            247600.0       <1H OCEAN  \n",
       "860      1777.0       559.0         5.7192            283500.0       <1H OCEAN  \n",
       "861      2079.0       975.0         3.6832            216900.0       <1H OCEAN  "
      ]
     },
     "execution_count": 32,
     "metadata": {},
     "output_type": "execute_result"
    }
   ],
   "source": [
    "df.head()"
   ]
  },
  {
   "cell_type": "code",
   "execution_count": 34,
   "id": "8c4ec630-164a-43b0-b5c5-0c7a573913f6",
   "metadata": {},
   "outputs": [
    {
     "data": {
      "text/plain": [
       "ocean_proximity\n",
       "<1H OCEAN    9136\n",
       "INLAND       6551\n",
       "Name: count, dtype: int64"
      ]
     },
     "execution_count": 34,
     "metadata": {},
     "output_type": "execute_result"
    }
   ],
   "source": [
    "df.ocean_proximity.value_counts()"
   ]
  },
  {
   "cell_type": "code",
   "execution_count": 35,
   "id": "688186d2-70ed-4164-8759-51ae01de3fcd",
   "metadata": {},
   "outputs": [],
   "source": [
    "# dropping the ocean_proximity column\n",
    "df = df.drop('ocean_proximity', axis = 1)"
   ]
  },
  {
   "cell_type": "markdown",
   "id": "f84a8eaa-6a7a-4d74-bd3d-732c598a95a0",
   "metadata": {},
   "source": [
    "# Question 1\n",
    "# There's one feature with missing values. What is it?\n",
    "\n",
    "### total_rooms\n",
    "### total_bedrooms\n",
    "### population\n",
    "### households"
   ]
  },
  {
   "cell_type": "code",
   "execution_count": 41,
   "id": "66fb485a-262f-4141-801e-b0f09262a552",
   "metadata": {},
   "outputs": [],
   "source": [
    "my_dict = dict(df.isna().sum())"
   ]
  },
  {
   "cell_type": "code",
   "execution_count": 46,
   "id": "9321282c-84ca-49e5-8e8c-bd168522ddcf",
   "metadata": {},
   "outputs": [
    {
     "name": "stdout",
     "output_type": "stream",
     "text": [
      "The column with missing values is total_bedrooms\n"
     ]
    }
   ],
   "source": [
    "col_0_features = ''\n",
    "\n",
    "for key in my_dict:\n",
    "    if my_dict[key] > 0:\n",
    "        col_0_features = key\n",
    "        break\n",
    "print(f\"The column with missing values is {col_0_features}\")"
   ]
  },
  {
   "cell_type": "markdown",
   "id": "4ca4d36f-4409-4cd2-bc7f-e888a33799ab",
   "metadata": {},
   "source": [
    "# Question 2\n",
    "# What's the median (50% percentile) for variable 'population'?\n",
    "\n",
    "### 995\n",
    "### 1095\n",
    "### 1195\n",
    "### 1295"
   ]
  },
  {
   "cell_type": "code",
   "execution_count": 51,
   "id": "ef95c128-9bc5-4976-8c91-8fc55fb8d902",
   "metadata": {},
   "outputs": [
    {
     "data": {
      "text/plain": [
       "1195.0"
      ]
     },
     "execution_count": 51,
     "metadata": {},
     "output_type": "execute_result"
    }
   ],
   "source": [
    "df['population'].median()"
   ]
  },
  {
   "cell_type": "markdown",
   "id": "a978026f-da40-4b36-ac8d-f88714c1db98",
   "metadata": {},
   "source": [
    "# Prepare and split the dataset\n",
    "## Shuffle the dataset (the filtered one you created above), use seed 42.\n",
    "## Split your data in train/val/test sets, with 60%/20%/20% distribution.\n",
    "## Apply the log transformation to the median_house_value variable using the np.log1p() function."
   ]
  },
  {
   "cell_type": "code",
   "execution_count": 58,
   "id": "5329c4af-b0e8-43b0-b1c3-9bfba0add8e3",
   "metadata": {},
   "outputs": [],
   "source": [
    "idx = np.arange(len(df))\n",
    "np.random.seed(42)\n",
    "np.random.shuffle(idx)"
   ]
  },
  {
   "cell_type": "code",
   "execution_count": 64,
   "id": "b14c0b3b-3f55-4d09-84eb-b64c78d1bc88",
   "metadata": {},
   "outputs": [],
   "source": [
    "n = len(df)\n",
    "n_val = int(0.2*n)\n",
    "n_test = int(0.2*n)\n",
    "n_train = n - n_val - n_test"
   ]
  },
  {
   "cell_type": "code",
   "execution_count": 65,
   "id": "652cfcbf-8242-4194-9f49-ce74dfb508cf",
   "metadata": {},
   "outputs": [],
   "source": [
    "val_df = df.iloc[idx[:n_val]]\n",
    "test_df = df.iloc[idx[n_val:n_val + n_test]]\n",
    "train_df = df.iloc[idx[n_val+n_test:]]"
   ]
  },
  {
   "cell_type": "code",
   "execution_count": 67,
   "id": "91f32863-6fe5-4765-b971-7feff5fb589c",
   "metadata": {},
   "outputs": [],
   "source": [
    "val_df = val_df.reset_index(drop = True)\n",
    "test_df = test_df.reset_index(drop = True)\n",
    "train_df = train_df.reset_index(drop = True)"
   ]
  },
  {
   "cell_type": "markdown",
   "id": "42cd991f-89b5-4553-b3b3-cb935b37dc8f",
   "metadata": {},
   "source": [
    "# distinguishing predictor and target columns"
   ]
  },
  {
   "cell_type": "code",
   "execution_count": 85,
   "id": "37e17644-b8aa-4596-b96c-973a6a0bd2ec",
   "metadata": {},
   "outputs": [],
   "source": [
    "X_train = train_df.drop('median_house_value', axis = 1)\n",
    "X_val = val_df.drop('median_house_value', axis = 1)\n",
    "X_test = test_df.drop('median_house_value', axis = 1)"
   ]
  },
  {
   "cell_type": "code",
   "execution_count": 91,
   "id": "e9444f31-0f17-499e-b24b-ec28a6c2f07e",
   "metadata": {},
   "outputs": [],
   "source": [
    "y_train = train_df['median_house_value']\n",
    "y_val = val_df['median_house_value']\n",
    "y_test = test_df['median_house_value']"
   ]
  },
  {
   "cell_type": "markdown",
   "id": "28d33362-5950-48a0-8b5d-d354a93936ad",
   "metadata": {},
   "source": [
    "# Applying the log1p function to the target column in training dataset"
   ]
  },
  {
   "cell_type": "code",
   "execution_count": 92,
   "id": "5ddbaf17-4e34-4c40-9056-c4cc3892fcc1",
   "metadata": {},
   "outputs": [],
   "source": [
    "y_train = np.log1p(y_train.values)"
   ]
  },
  {
   "cell_type": "markdown",
   "id": "5888f493-7139-4b01-b5b4-4b9f12136266",
   "metadata": {},
   "source": [
    "# Question 3 \n",
    "### \n",
    "We need to deal with missing values for the column from Q1 \r\n",
    "We have two options: fill it with 0 or with the mean of this variabl .\r\n",
    "Try both options. For each, train a linear regression model without regularization using the code from the lessos.\r\n",
    "For computing the mean, use the training o ly!\r\n",
    "Use the validation dataset to evaluate the models and compare the RMSE of each op ion.\r\n",
    "Round the RMSE scores to 2 decimal digits using round(sco e, 2)\r\n",
    "Which option gives bettr RMSE?"
   ]
  },
  {
   "cell_type": "markdown",
   "id": "56558715-9e99-492d-a298-766543ab7195",
   "metadata": {},
   "source": [
    "# Creating two types of predictor columns, based on how we fill the missing values"
   ]
  },
  {
   "cell_type": "markdown",
   "id": "40943c6a-8ded-4b43-a422-62c9685bd3f6",
   "metadata": {},
   "source": [
    "# Filling missing values with 0"
   ]
  },
  {
   "cell_type": "code",
   "execution_count": 88,
   "id": "5b3c64c9-508a-482f-80c5-a8e6abbbe908",
   "metadata": {},
   "outputs": [],
   "source": [
    "X_train_0 = X_train.fillna(0).values\n",
    "X_val_0 = X_val.fillna(0).values\n",
    "X_test_0 = X_test.fillna(0).values"
   ]
  },
  {
   "cell_type": "code",
   "execution_count": 94,
   "id": "7db07b5e-b179-42d0-9254-f5847630b003",
   "metadata": {},
   "outputs": [],
   "source": [
    "from sklearn.linear_model import LinearRegression"
   ]
  },
  {
   "cell_type": "code",
   "execution_count": 109,
   "id": "5eb4bcf2-a818-446c-8e81-eb594083b3e2",
   "metadata": {},
   "outputs": [],
   "source": [
    "lr_0 = LinearRegression()\n",
    "lr_0.fit(X_train_0, y_train)\n",
    "y_pred_0 = np.expm1(lr_0.predict(X_val_0))"
   ]
  },
  {
   "cell_type": "code",
   "execution_count": 110,
   "id": "3d94885f-7b75-4c7f-b3ab-dda4cd5ad1b8",
   "metadata": {},
   "outputs": [
    {
     "name": "stderr",
     "output_type": "stream",
     "text": [
      "/home/dheerajmachiraju/anaconda3/envs/ml-zoomcamp/lib/python3.10/site-packages/seaborn/_oldcore.py:1119: FutureWarning: use_inf_as_na option is deprecated and will be removed in a future version. Convert inf values to NaN before operating instead.\n",
      "  with pd.option_context('mode.use_inf_as_na', True):\n",
      "/home/dheerajmachiraju/anaconda3/envs/ml-zoomcamp/lib/python3.10/site-packages/seaborn/_oldcore.py:1119: FutureWarning: use_inf_as_na option is deprecated and will be removed in a future version. Convert inf values to NaN before operating instead.\n",
      "  with pd.option_context('mode.use_inf_as_na', True):\n"
     ]
    },
    {
     "data": {
      "text/plain": [
       "<Axes: xlabel='median_house_value', ylabel='Count'>"
      ]
     },
     "execution_count": 110,
     "metadata": {},
     "output_type": "execute_result"
    },
    {
     "data": {
      "image/png": "[encoded data removed]",
      "text/plain": [
       "<Figure size 640x480 with 1 Axes>"
      ]
     },
     "metadata": {},
     "output_type": "display_data"
    }
   ],
   "source": [
    "sns.histplot(y_pred_0, color = 'red')\n",
    "sns.histplot(y_val, color = 'blue')"
   ]
  },
  {
   "cell_type": "code",
   "execution_count": 113,
   "id": "41206f7b-8e36-46ec-b0da-50f54b47fd6a",
   "metadata": {},
   "outputs": [
    {
     "data": {
      "text/plain": [
       "75947.05"
      ]
     },
     "execution_count": 113,
     "metadata": {},
     "output_type": "execute_result"
    }
   ],
   "source": [
    "from sklearn.metrics import mean_squared_error\n",
    "rmse_0 = np.sqrt(mean_squared_error(y_val, y_pred_0))\n",
    "round(rmse_0,2)"
   ]
  },
  {
   "cell_type": "markdown",
   "id": "63ecd61c-89b5-461b-beec-c5856192a90e",
   "metadata": {},
   "source": [
    "# Filling missing values with mean"
   ]
  },
  {
   "cell_type": "code",
   "execution_count": 123,
   "id": "4c4876e6-83d9-436a-8a4a-9130addbf3a9",
   "metadata": {},
   "outputs": [],
   "source": [
    "X_train_mean = X_train.fillna(X_train['total_bedrooms'].mean()).values\n",
    "X_val_mean = X_val.fillna(X_train['total_bedrooms'].mean()).values\n",
    "# X_test_mean = X_test.fillna().values"
   ]
  },
  {
   "cell_type": "code",
   "execution_count": 126,
   "id": "2ef25330-085c-477c-8bd7-eafcdda0b8c9",
   "metadata": {},
   "outputs": [],
   "source": [
    "lr_mean = LinearRegression()\n",
    "lr_mean.fit(X_train_mean, y_train)\n",
    "y_pred_mean = np.expm1(lr_mean.predict(X_val_mean))"
   ]
  },
  {
   "cell_type": "code",
   "execution_count": 127,
   "id": "be1544bd-ce0c-42a7-81cd-801e69225618",
   "metadata": {},
   "outputs": [
    {
     "name": "stderr",
     "output_type": "stream",
     "text": [
      "/home/dheerajmachiraju/anaconda3/envs/ml-zoomcamp/lib/python3.10/site-packages/seaborn/_oldcore.py:1119: FutureWarning: use_inf_as_na option is deprecated and will be removed in a future version. Convert inf values to NaN before operating instead.\n",
      "  with pd.option_context('mode.use_inf_as_na', True):\n",
      "/home/dheerajmachiraju/anaconda3/envs/ml-zoomcamp/lib/python3.10/site-packages/seaborn/_oldcore.py:1119: FutureWarning: use_inf_as_na option is deprecated and will be removed in a future version. Convert inf values to NaN before operating instead.\n",
      "  with pd.option_context('mode.use_inf_as_na', True):\n"
     ]
    },
    {
     "data": {
      "text/plain": [
       "<Axes: xlabel='median_house_value', ylabel='Count'>"
      ]
     },
     "execution_count": 127,
     "metadata": {},
     "output_type": "execute_result"
    },
    {
     "data": {
      "image/png": "[encoded data removed]",
      "text/plain": [
       "<Figure size 640x480 with 1 Axes>"
      ]
     },
     "metadata": {},
     "output_type": "display_data"
    }
   ],
   "source": [
    "sns.histplot(y_pred_mean, color = 'red')\n",
    "sns.histplot(y_val, color = 'blue')"
   ]
  },
  {
   "cell_type": "code",
   "execution_count": 130,
   "id": "c5b81afc-aa1b-45fa-8dce-97f4c5de230d",
   "metadata": {},
   "outputs": [
    {
     "data": {
      "text/plain": [
       "76252.55"
      ]
     },
     "execution_count": 130,
     "metadata": {},
     "output_type": "execute_result"
    }
   ],
   "source": [
    "rmse_mean = np.sqrt(mean_squared_error(y_val, y_pred_mean))\n",
    "round(rmse_mean,2)"
   ]
  },
  {
   "cell_type": "code",
   "execution_count": 131,
   "id": "67cef0d2-df3d-4fef-a5ce-27760d6e19ab",
   "metadata": {},
   "outputs": [
    {
     "name": "stdout",
     "output_type": "stream",
     "text": [
      "The rmse when for filling missing values with 0 is 75947.05 and the rmse for filling missing values with mean is 76252.55\n"
     ]
    }
   ],
   "source": [
    "print(f\"The rmse when for filling missing values with 0 is {round(rmse_0,2)} and the rmse for filling missing values with mean is {round(rmse_mean,2)}\")"
   ]
  },
  {
   "cell_type": "markdown",
   "id": "ba9f61a0-ce38-47c1-8251-45158b5a52dd",
   "metadata": {},
   "source": [
    "# Question 4\n",
    "## Now let's train a regularized linear regression.\n",
    "## For this question, fill the NAs with 0.\n",
    "## Try different values of r from this list: [0, 0.000001, 0.0001, 0.001, 0.01, 0.1, 1, 5, 10].\n",
    "## Use RMSE to evaluate the model on the validation dataset.\n",
    "## Round the RMSE scores to 2 decimal digits.\n",
    "## Which r gives the best RMSE?"
   ]
  },
  {
   "cell_type": "code",
   "execution_count": 132,
   "id": "bdf0c567-787c-48c8-b382-751101c10f41",
   "metadata": {},
   "outputs": [],
   "source": [
    "from sklearn.linear_model import Ridge"
   ]
  },
  {
   "cell_type": "code",
   "execution_count": 144,
   "id": "7b013c93-0ea3-45eb-9e4f-97ec9bcc03a3",
   "metadata": {},
   "outputs": [],
   "source": [
    "r_list = [0, 0.000001, 0.0001, 0.001, 0.01, 0.1, 1, 5, 10]\n",
    "ridge_rmse_list = []\n",
    "\n",
    "for r in r_list:\n",
    "    ridge_reg = Ridge(alpha = r)\n",
    "    ridge_reg.fit(X_train_0, y_train)\n",
    "    ridge_pred = np.expm1(ridge_reg.predict(X_val_0))\n",
    "    rmse_ridge = np.sqrt(mean_squared_error(y_val, ridge_pred))\n",
    "    ridge_rmse_list.append(round(rmse_ridge,2))"
   ]
  },
  {
   "cell_type": "code",
   "execution_count": 153,
   "id": "37d1400f-a59d-4e7d-83d5-517d1d259f2a",
   "metadata": {},
   "outputs": [],
   "source": [
    "min_rmse = min(ridge_rmse_list)\n",
    "ridge_rmse_dict = dict(zip(r_list, ridge_rmse_list))"
   ]
  },
  {
   "cell_type": "code",
   "execution_count": 158,
   "id": "4934e544-0c3b-40d7-b967-b2553326c2df",
   "metadata": {},
   "outputs": [],
   "source": [
    "#If there are multiple options, select the smallest r.\n",
    "#Options:\n",
    "#0\n",
    "#0.000001\n",
    "#0.001\n",
    "#0.0001"
   ]
  },
  {
   "cell_type": "code",
   "execution_count": 156,
   "id": "d764dada-a8fa-4aa1-a0b6-4e6373b241bc",
   "metadata": {},
   "outputs": [
    {
     "name": "stdout",
     "output_type": "stream",
     "text": [
      "The minimum RMSE score is 75947.05, and the minimum value exists for the following values of r: \n",
      "0\n",
      "1e-06\n",
      "0.0001\n"
     ]
    }
   ],
   "source": [
    "print(f\"The minimum RMSE score is {min_rmse}, and the minimum value exists for the following values of r: \")\n",
    "for r in r_list:\n",
    "    if ridge_rmse_dict[r] == min_rmse:\n",
    "        print(r)"
   ]
  },
  {
   "cell_type": "markdown",
   "id": "c3c74f57-2ba4-4f2e-bc0f-36f391cf78b5",
   "metadata": {},
   "source": [
    "# Question 5\r\n",
    "We used seed 42 for splitting the data. Let's find out how selecting the seed influences our score.\r\n",
    "Try different seed values: [0, 1, 2, 3, 4, 5, 6, 7, 8, 9].\r\n",
    "For each seed, do the train/validation/test split with 60%/20%/20% distribution.\r\n",
    "Fill the missing values with 0 and train a model without regularization.\r\n",
    "For each seed, evaluate the model on the validation dataset and collect the RMSE scores.\r\n",
    "What's the standard deviation of all the scores? To compute the standard deviation, use np.std.\r\n",
    "Round the result to 3 decimal digits (round(std, 3))"
   ]
  },
  {
   "cell_type": "code",
   "execution_count": null,
   "id": "ae9b093b-35a7-4973-9512-cbf476750552",
   "metadata": {},
   "outputs": [],
   "source": []
  }
 ],
 "metadata": {
  "kernelspec": {
   "display_name": "Python 3 (ipykernel)",
   "language": "python",
   "name": "python3"
  },
  "language_info": {
   "codemirror_mode": {
    "name": "ipython",
    "version": 3
   },
   "file_extension": ".py",
   "mimetype": "text/x-python",
   "name": "python",
   "nbconvert_exporter": "python",
   "pygments_lexer": "ipython3",
   "version": "3.10.14"
  }
 },
 "nbformat": 4,
 "nbformat_minor": 5
}
