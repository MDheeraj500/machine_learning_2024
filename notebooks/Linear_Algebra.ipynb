{
 "cells": [
  {
   "cell_type": "code",
   "execution_count": 1,
   "id": "5b87ea8c-8e14-4d20-96b6-924c498b61a0",
   "metadata": {},
   "outputs": [],
   "source": [
    "import numpy as np\n"
   ]
  },
  {
   "cell_type": "markdown",
   "id": "b2814b5b-527f-431e-bec0-3c913b8d37a5",
   "metadata": {},
   "source": [
    "# Scalar Vector operations"
   ]
  },
  {
   "cell_type": "code",
   "execution_count": 2,
   "id": "5a6cae47-09d4-4af4-a1d7-a3124199256d",
   "metadata": {},
   "outputs": [
    {
     "data": {
      "text/plain": [
       "array([4, 1, 2, 3])"
      ]
     },
     "execution_count": 2,
     "metadata": {},
     "output_type": "execute_result"
    }
   ],
   "source": [
    "a = np.array([4,1,2,3])\n",
    "a"
   ]
  },
  {
   "cell_type": "code",
   "execution_count": 3,
   "id": "0f3874e2-26de-42f4-a5e6-67ae9d15e592",
   "metadata": {},
   "outputs": [
    {
     "data": {
      "text/plain": [
       "array([8, 2, 4, 6])"
      ]
     },
     "execution_count": 3,
     "metadata": {},
     "output_type": "execute_result"
    }
   ],
   "source": [
    "2 * a"
   ]
  },
  {
   "cell_type": "code",
   "execution_count": 4,
   "id": "728ddf2f-b9a7-435b-ba79-dd62b837ef61",
   "metadata": {},
   "outputs": [
    {
     "data": {
      "text/plain": [
       "array([6, 3, 4, 5])"
      ]
     },
     "execution_count": 4,
     "metadata": {},
     "output_type": "execute_result"
    }
   ],
   "source": [
    "2 + a"
   ]
  },
  {
   "cell_type": "code",
   "execution_count": 5,
   "id": "bac12697-efcd-46a8-be69-556b617409cd",
   "metadata": {},
   "outputs": [
    {
     "data": {
      "text/plain": [
       "array([0, 1, 0, 1])"
      ]
     },
     "execution_count": 5,
     "metadata": {},
     "output_type": "execute_result"
    }
   ],
   "source": [
    "a%2"
   ]
  },
  {
   "cell_type": "markdown",
   "id": "c46072fc-d03c-4d6c-b296-bedebf1e48b3",
   "metadata": {},
   "source": [
    "# Vector Vector operations"
   ]
  },
  {
   "cell_type": "markdown",
   "id": "ca6f078d-bac7-4929-a97d-3d481a3cec07",
   "metadata": {},
   "source": [
    "## Addition"
   ]
  },
  {
   "cell_type": "code",
   "execution_count": 7,
   "id": "e651bd0a-32bd-46d7-a494-e9dde145deb5",
   "metadata": {},
   "outputs": [
    {
     "ename": "ValueError",
     "evalue": "operands could not be broadcast together with shapes (3,) (4,) ",
     "output_type": "error",
     "traceback": [
      "\u001b[0;31m---------------------------------------------------------------------------\u001b[0m",
      "\u001b[0;31mValueError\u001b[0m                                Traceback (most recent call last)",
      "Cell \u001b[0;32mIn[7], line 3\u001b[0m\n\u001b[1;32m      1\u001b[0m v \u001b[38;5;241m=\u001b[39m np\u001b[38;5;241m.\u001b[39marray([\u001b[38;5;241m1\u001b[39m,\u001b[38;5;241m2\u001b[39m,\u001b[38;5;241m3\u001b[39m])\n\u001b[1;32m      2\u001b[0m u \u001b[38;5;241m=\u001b[39m np\u001b[38;5;241m.\u001b[39marray([\u001b[38;5;241m1\u001b[39m,\u001b[38;5;241m2\u001b[39m,\u001b[38;5;241m3\u001b[39m,\u001b[38;5;241m4\u001b[39m])\n\u001b[0;32m----> 3\u001b[0m \u001b[43mv\u001b[49m\u001b[43m \u001b[49m\u001b[38;5;241;43m*\u001b[39;49m\u001b[43m \u001b[49m\u001b[43mu\u001b[49m\n",
      "\u001b[0;31mValueError\u001b[0m: operands could not be broadcast together with shapes (3,) (4,) "
     ]
    }
   ],
   "source": [
    "v = np.array([1,2,3])\n",
    "u = np.array([1,2,3,4])\n",
    "v * u\n",
    "# Any vector-vector operations work only if the shapes of the vectors match."
   ]
  },
  {
   "cell_type": "markdown",
   "id": "93ccefb7-72b9-4548-8070-19c2765464bf",
   "metadata": {},
   "source": [
    "## Multiplication"
   ]
  },
  {
   "cell_type": "code",
   "execution_count": 12,
   "id": "5fb6bff6-1180-42c6-9d3c-e9e3523b427b",
   "metadata": {},
   "outputs": [],
   "source": [
    "def matrix_vector_multiplication(U, v):\n",
    "    assert U.shape[1] == v.shape[0]\n",
    "\n",
    "    result = np.zeros(U.shape[0])\n",
    "    for i in range(U.shape[0]):\n",
    "        result[i] = U[i].dot(v)\n",
    "\n",
    "    return result\n",
    "\n",
    "U = np.array([[2,4,5,6],\n",
    "              [1,2,1,2],\n",
    "              [3,1,2,1]])\n",
    "v = np.array([1,0.5,2,1])\n",
    "\n",
    "w = matrix_vector_multiplication(U,v)"
   ]
  },
  {
   "cell_type": "code",
   "execution_count": 13,
   "id": "1f8e262d-4c4a-4d15-95f7-4f5f4e99defe",
   "metadata": {},
   "outputs": [
    {
     "data": {
      "text/plain": [
       "array([20. ,  6. ,  8.5])"
      ]
     },
     "execution_count": 13,
     "metadata": {},
     "output_type": "execute_result"
    }
   ],
   "source": [
    "w"
   ]
  },
  {
   "cell_type": "code",
   "execution_count": 14,
   "id": "9e1f26c3-ea6b-4fbc-a1ab-fa189708779e",
   "metadata": {},
   "outputs": [
    {
     "data": {
      "text/plain": [
       "array([20. ,  6. ,  8.5])"
      ]
     },
     "execution_count": 14,
     "metadata": {},
     "output_type": "execute_result"
    }
   ],
   "source": [
    "x = U.dot(v)\n",
    "x"
   ]
  },
  {
   "cell_type": "code",
   "execution_count": 25,
   "id": "508359e6-55ae-4d3c-bc68-e07a61422f2c",
   "metadata": {},
   "outputs": [
    {
     "data": {
      "text/plain": [
       "array([[ 30.,  36.,  42.],\n",
       "       [ 66.,  81.,  96.],\n",
       "       [102., 126., 150.]])"
      ]
     },
     "execution_count": 25,
     "metadata": {},
     "output_type": "execute_result"
    }
   ],
   "source": [
    "def matrix_matrix_multiplication(U,V):\n",
    "    assert U.shape[1] == V.shape[0]\n",
    "\n",
    "    result = np.zeros((U.shape[0],V.shape[1]))\n",
    "    \n",
    "    for i in range(V.shape[1]):\n",
    "        vi = V[:, i]\n",
    "        result[:, i] = matrix_vector_multiplication(U,vi)\n",
    "            \n",
    "    return result\n",
    "\n",
    "U = np.array([[1,2,3],\n",
    "            [4,5,6],\n",
    "            [7,8,9]])\n",
    "V = np.array([[1,2,3],\n",
    "            [4,5,6],\n",
    "            [7,8,9]])\n",
    "\n",
    "W = matrix_matrix_multiplication(U,V)\n",
    "W"
   ]
  },
  {
   "cell_type": "code",
   "execution_count": 26,
   "id": "0be98211-a858-4509-a92d-f86ca9057ced",
   "metadata": {},
   "outputs": [
    {
     "data": {
      "text/plain": [
       "array([[ 30,  36,  42],\n",
       "       [ 66,  81,  96],\n",
       "       [102, 126, 150]])"
      ]
     },
     "execution_count": 26,
     "metadata": {},
     "output_type": "execute_result"
    }
   ],
   "source": [
    "X = U.dot(V)\n",
    "X"
   ]
  },
  {
   "cell_type": "code",
   "execution_count": null,
   "id": "efb8df75-5a10-47f1-91dc-733139ea864f",
   "metadata": {},
   "outputs": [],
   "source": []
  }
 ],
 "metadata": {
  "kernelspec": {
   "display_name": "Python 3 (ipykernel)",
   "language": "python",
   "name": "python3"
  },
  "language_info": {
   "codemirror_mode": {
    "name": "ipython",
    "version": 3
   },
   "file_extension": ".py",
   "mimetype": "text/x-python",
   "name": "python",
   "nbconvert_exporter": "python",
   "pygments_lexer": "ipython3",
   "version": "3.10.14"
  }
 },
 "nbformat": 4,
 "nbformat_minor": 5
}
